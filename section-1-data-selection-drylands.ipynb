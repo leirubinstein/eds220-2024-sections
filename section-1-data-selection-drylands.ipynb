{
 "cells": [
  {
   "cell_type": "markdown",
   "id": "aa435d1c-a74a-4d74-b7bc-305ac096111b",
   "metadata": {},
   "source": [
    "# Preliminary data exploration with pandas"
   ]
  },
  {
   "cell_type": "code",
   "execution_count": null,
   "id": "5f0d31ce-b0c7-4912-8654-f6de5d8bc0e5",
   "metadata": {},
   "outputs": [],
   "source": []
  }
 ],
 "metadata": {
  "kernelspec": {
   "display_name": "Anaconda 3 (Base)",
   "language": "python",
   "name": "base"
  },
  "language_info": {
   "codemirror_mode": {
    "name": "ipython",
    "version": 3
   },
   "file_extension": ".py",
   "mimetype": "text/x-python",
   "name": "python",
   "nbconvert_exporter": "python",
   "pygments_lexer": "ipython3",
   "version": "3.9.13"
  }
 },
 "nbformat": 4,
 "nbformat_minor": 5
}
