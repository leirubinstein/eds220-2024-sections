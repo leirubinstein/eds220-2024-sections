{
 "cells": [
  {
   "cell_type": "markdown",
   "id": "ac398642-4fdc-4687-853b-d88e963a9f44",
   "metadata": {},
   "source": [
    "# Reproducible file paths\n",
    "\n",
    "Let's import the packages we'll be working with"
   ]
  },
  {
   "cell_type": "code",
   "execution_count": 4,
   "id": "62c0901d-e033-4a78-a39d-64d57a5f5d1e",
   "metadata": {
    "tags": []
   },
   "outputs": [],
   "source": [
    "import os\n",
    "import geopandas as gpd\n",
    "import matplotlib.pyplot as plt"
   ]
  },
  {
   "cell_type": "code",
   "execution_count": 5,
   "id": "eea035de-7dc6-4a9c-b8d4-560e168825ed",
   "metadata": {
    "tags": []
   },
   "outputs": [
    {
     "data": {
      "text/plain": [
       "'data/gbif_sus_scrofa_california/gbif_sus_scrofa_california.shp'"
      ]
     },
     "execution_count": 5,
     "metadata": {},
     "output_type": "execute_result"
    }
   ],
   "source": [
    "fp = os.path.join('data','gbif_sus_scrofa_california','gbif_sus_scrofa_california.shp')\n",
    "fp"
   ]
  },
  {
   "cell_type": "code",
   "execution_count": 9,
   "id": "342ae7f6-7d6a-43a7-8830-c51135a0819f",
   "metadata": {
    "tags": []
   },
   "outputs": [
    {
     "data": {
      "text/plain": [
       "<bound method NDFrame.head of           gbifID     species       state  individual   day  month    year  \\\n",
       "0      899953814  Sus scrofa  California         NaN  22.0    3.0  2014.0   \n",
       "1      899951348  Sus scrofa  California         NaN   9.0    6.0  2007.0   \n",
       "2      896560733  Sus scrofa  California         NaN  20.0   12.0  1937.0   \n",
       "3      896559958  Sus scrofa  California         NaN   1.0    4.0  1969.0   \n",
       "4      896559722  Sus scrofa  California         NaN   1.0    1.0  1961.0   \n",
       "...          ...         ...         ...         ...   ...    ...     ...   \n",
       "1041  1024216143  Sus scrofa  California         NaN  24.0    8.0  2014.0   \n",
       "1042  1024215805  Sus scrofa  California         NaN  24.0    8.0  2014.0   \n",
       "1043  1024215159  Sus scrofa  California         NaN  23.0    8.0  2014.0   \n",
       "1044  1019052419  Sus scrofa  California         2.0  18.0    9.0  1998.0   \n",
       "1045  1019052401  Sus scrofa  California         2.0  18.0    9.0  1998.0   \n",
       "\n",
       "                                                   inst    collection  \\\n",
       "0                                           iNaturalist  Observations   \n",
       "1                                           iNaturalist  Observations   \n",
       "2                                                   MVZ          Hild   \n",
       "3                                                   MVZ          Hild   \n",
       "4                                                   MVZ          Hild   \n",
       "...                                                 ...           ...   \n",
       "1041                                        iNaturalist  Observations   \n",
       "1042                                        iNaturalist  Observations   \n",
       "1043                                        iNaturalist  Observations   \n",
       "1044  Borror Laboratory of Bioacoustics, Ohio State ...    Recordings   \n",
       "1045  Borror Laboratory of Bioacoustics, Ohio State ...    Recordings   \n",
       "\n",
       "         catalogNum                                         identified  \\\n",
       "0            581956                                        edwardrooks   \n",
       "1            576047                                      Bruce Freeman   \n",
       "2      MVZ:Hild:195  Museum of Vertebrate Zoology, University of Ca...   \n",
       "3     MVZ:Hild:1213  Museum of Vertebrate Zoology, University of Ca...   \n",
       "4     MVZ:Hild:1004  Museum of Vertebrate Zoology, University of Ca...   \n",
       "...             ...                                                ...   \n",
       "1041         848609                                       sea-kangaroo   \n",
       "1042         847708                                      Donna Pomeroy   \n",
       "1043         845949                                  Alyssa Semerdjian   \n",
       "1044       BLB30714                                               None   \n",
       "1045       BLB30713                                               None   \n",
       "\n",
       "                         geometry  \n",
       "0     POINT (-121.53812 37.08846)  \n",
       "1     POINT (-120.54942 35.47354)  \n",
       "2     POINT (-122.27063 37.87610)  \n",
       "3     POINT (-121.82297 38.44543)  \n",
       "4     POINT (-121.74559 38.54882)  \n",
       "...                           ...  \n",
       "1041  POINT (-121.71341 37.34271)  \n",
       "1042  POINT (-121.71871 37.34467)  \n",
       "1043  POINT (-120.18419 35.39745)  \n",
       "1044  POINT (-119.55190 34.04810)  \n",
       "1045  POINT (-119.55190 34.04810)  \n",
       "\n",
       "[1046 rows x 12 columns]>"
      ]
     },
     "execution_count": 9,
     "metadata": {},
     "output_type": "execute_result"
    }
   ],
   "source": [
    "pigs = gpd.read_file(fp)\n",
    "pigs.head"
   ]
  },
  {
   "cell_type": "markdown",
   "id": "70314dd3-2931-4baa-9eed-11769bc54c6e",
   "metadata": {
    "tags": []
   },
   "source": [
    "### Check-in\n",
    "\n",
    "Create a file path using `os.path.join()` to import the shapefile of the California state boundary as a `geopandas.GeoDataFrame`. Once imported, take a look at the data."
   ]
  },
  {
   "cell_type": "code",
   "execution_count": 7,
   "id": "cf84cda0-2646-4165-9069-2134c94fb849",
   "metadata": {
    "tags": []
   },
   "outputs": [
    {
     "data": {
      "text/plain": [
       "'data/ca_boundary/ca_state_boundary.shp'"
      ]
     },
     "execution_count": 7,
     "metadata": {},
     "output_type": "execute_result"
    }
   ],
   "source": [
    "fp2 = os.path.join('data', 'ca_boundary', 'ca_state_boundary.shp')\n",
    "fp2"
   ]
  },
  {
   "cell_type": "code",
   "execution_count": 10,
   "id": "1796e88f-e076-4220-982b-02e98dd842ed",
   "metadata": {
    "tags": []
   },
   "outputs": [
    {
     "data": {
      "text/plain": [
       "<bound method NDFrame.head of   REGION DIVISION STATEFP   STATENS GEOID STUSPS        NAME LSAD  MTFCC  \\\n",
       "0      4        9      06  01779778    06     CA  California   00  G4000   \n",
       "\n",
       "  FUNCSTAT         ALAND       AWATER     INTPTLAT      INTPTLON  \\\n",
       "0        A  403501101370  20466718403  +37.1551773  -119.5434183   \n",
       "\n",
       "                                            geometry  \n",
       "0  MULTIPOLYGON (((-119.63473 33.26545, -119.6363...  >"
      ]
     },
     "execution_count": 10,
     "metadata": {},
     "output_type": "execute_result"
    }
   ],
   "source": [
    "ca_boundary = gpd.read_file(fp2)\n",
    "ca_boundary.head"
   ]
  },
  {
   "cell_type": "markdown",
   "id": "acd59a81-9750-4ca9-8cd4-7161d1cf2f95",
   "metadata": {},
   "source": [
    "## GeoSeries and GeoDataFrame\n",
    "\n",
    "The core data structure in GeoPandas is the `geopandas.GeoDataFrame`. We can think of it as a `pandas.DataFrame` with a dedicated geometry column that can perform spatial operations."
   ]
  },
  {
   "cell_type": "code",
   "execution_count": 12,
   "id": "d433d2b1-a63a-47d5-938d-4add65ad0c24",
   "metadata": {
    "tags": []
   },
   "outputs": [
    {
     "data": {
      "text/html": [
       "<div>\n",
       "<style scoped>\n",
       "    .dataframe tbody tr th:only-of-type {\n",
       "        vertical-align: middle;\n",
       "    }\n",
       "\n",
       "    .dataframe tbody tr th {\n",
       "        vertical-align: top;\n",
       "    }\n",
       "\n",
       "    .dataframe thead th {\n",
       "        text-align: right;\n",
       "    }\n",
       "</style>\n",
       "<table border=\"1\" class=\"dataframe\">\n",
       "  <thead>\n",
       "    <tr style=\"text-align: right;\">\n",
       "      <th></th>\n",
       "      <th>gbifID</th>\n",
       "      <th>species</th>\n",
       "      <th>state</th>\n",
       "      <th>individual</th>\n",
       "      <th>day</th>\n",
       "      <th>month</th>\n",
       "      <th>year</th>\n",
       "      <th>inst</th>\n",
       "      <th>collection</th>\n",
       "      <th>catalogNum</th>\n",
       "      <th>identified</th>\n",
       "      <th>geometry</th>\n",
       "    </tr>\n",
       "  </thead>\n",
       "  <tbody>\n",
       "    <tr>\n",
       "      <th>0</th>\n",
       "      <td>899953814</td>\n",
       "      <td>Sus scrofa</td>\n",
       "      <td>California</td>\n",
       "      <td>NaN</td>\n",
       "      <td>22.0</td>\n",
       "      <td>3.0</td>\n",
       "      <td>2014.0</td>\n",
       "      <td>iNaturalist</td>\n",
       "      <td>Observations</td>\n",
       "      <td>581956</td>\n",
       "      <td>edwardrooks</td>\n",
       "      <td>POINT (-121.53812 37.08846)</td>\n",
       "    </tr>\n",
       "    <tr>\n",
       "      <th>1</th>\n",
       "      <td>899951348</td>\n",
       "      <td>Sus scrofa</td>\n",
       "      <td>California</td>\n",
       "      <td>NaN</td>\n",
       "      <td>9.0</td>\n",
       "      <td>6.0</td>\n",
       "      <td>2007.0</td>\n",
       "      <td>iNaturalist</td>\n",
       "      <td>Observations</td>\n",
       "      <td>576047</td>\n",
       "      <td>Bruce Freeman</td>\n",
       "      <td>POINT (-120.54942 35.47354)</td>\n",
       "    </tr>\n",
       "    <tr>\n",
       "      <th>2</th>\n",
       "      <td>896560733</td>\n",
       "      <td>Sus scrofa</td>\n",
       "      <td>California</td>\n",
       "      <td>NaN</td>\n",
       "      <td>20.0</td>\n",
       "      <td>12.0</td>\n",
       "      <td>1937.0</td>\n",
       "      <td>MVZ</td>\n",
       "      <td>Hild</td>\n",
       "      <td>MVZ:Hild:195</td>\n",
       "      <td>Museum of Vertebrate Zoology, University of Ca...</td>\n",
       "      <td>POINT (-122.27063 37.87610)</td>\n",
       "    </tr>\n",
       "  </tbody>\n",
       "</table>\n",
       "</div>"
      ],
      "text/plain": [
       "      gbifID     species       state  individual   day  month    year  \\\n",
       "0  899953814  Sus scrofa  California         NaN  22.0    3.0  2014.0   \n",
       "1  899951348  Sus scrofa  California         NaN   9.0    6.0  2007.0   \n",
       "2  896560733  Sus scrofa  California         NaN  20.0   12.0  1937.0   \n",
       "\n",
       "          inst    collection    catalogNum  \\\n",
       "0  iNaturalist  Observations        581956   \n",
       "1  iNaturalist  Observations        576047   \n",
       "2          MVZ          Hild  MVZ:Hild:195   \n",
       "\n",
       "                                          identified  \\\n",
       "0                                        edwardrooks   \n",
       "1                                      Bruce Freeman   \n",
       "2  Museum of Vertebrate Zoology, University of Ca...   \n",
       "\n",
       "                      geometry  \n",
       "0  POINT (-121.53812 37.08846)  \n",
       "1  POINT (-120.54942 35.47354)  \n",
       "2  POINT (-122.27063 37.87610)  "
      ]
     },
     "execution_count": 12,
     "metadata": {},
     "output_type": "execute_result"
    }
   ],
   "source": [
    "pigs.head(3)"
   ]
  },
  {
   "cell_type": "code",
   "execution_count": 14,
   "id": "120a9aa6-f9c5-4f42-8bcb-cd1efb4b67d7",
   "metadata": {
    "tags": []
   },
   "outputs": [
    {
     "name": "stdout",
     "output_type": "stream",
     "text": [
      "<class 'geopandas.geodataframe.GeoDataFrame'>\n",
      "<class 'geopandas.geoseries.GeoSeries'>\n",
      "<class 'pandas.core.series.Series'>\n"
     ]
    }
   ],
   "source": [
    "# Check what kind of object is pigs\n",
    "print(type(pigs))\n",
    "\n",
    "# check what kind of object is the geometry column\n",
    "print(type(pigs.geometry))\n",
    "\n",
    "# check what kind of object is the species column\n",
    "(print(type(pigs.species)))"
   ]
  },
  {
   "cell_type": "markdown",
   "id": "4beadc4e-0e8c-4168-bd0c-15103bc45fe6",
   "metadata": {},
   "source": [
    "The data type of the geometry column is also reflected when we look at the data types of the values in each col"
   ]
  },
  {
   "cell_type": "code",
   "execution_count": 15,
   "id": "7b3d3c35-fad9-482c-90da-7c946825e7e0",
   "metadata": {
    "tags": []
   },
   "outputs": [
    {
     "data": {
      "text/plain": [
       "gbifID           int64\n",
       "species         object\n",
       "state           object\n",
       "individual     float64\n",
       "day            float64\n",
       "month          float64\n",
       "year           float64\n",
       "inst            object\n",
       "collection      object\n",
       "catalogNum      object\n",
       "identified      object\n",
       "geometry      geometry\n",
       "dtype: object"
      ]
     },
     "execution_count": 15,
     "metadata": {},
     "output_type": "execute_result"
    }
   ],
   "source": [
    "pigs.dtypes"
   ]
  },
  {
   "cell_type": "code",
   "execution_count": 17,
   "id": "2bb37a8b-efa3-4a44-8b42-8b9216150b23",
   "metadata": {
    "tags": []
   },
   "outputs": [
    {
     "data": {
      "text/plain": [
       "0       Point\n",
       "1       Point\n",
       "2       Point\n",
       "3       Point\n",
       "4       Point\n",
       "        ...  \n",
       "1041    Point\n",
       "1042    Point\n",
       "1043    Point\n",
       "1044    Point\n",
       "1045    Point\n",
       "Length: 1046, dtype: object"
      ]
     },
     "execution_count": 17,
     "metadata": {},
     "output_type": "execute_result"
    }
   ],
   "source": [
    "# Check the geometry type of each element in the geometry column\n",
    "pigs.geom_type"
   ]
  },
  {
   "cell_type": "markdown",
   "id": "c64a24f7-a470-480b-ab9c-05c96e75d711",
   "metadata": {},
   "source": [
    "### Check-in:\n",
    "What is the geometry tupe of the single feature in the CA state boundary? And why does it make sense to have this kind of geometry?"
   ]
  },
  {
   "cell_type": "code",
   "execution_count": 22,
   "id": "1354c88f-b66a-4490-8be0-8991f1e23316",
   "metadata": {
    "tags": []
   },
   "outputs": [
    {
     "data": {
      "text/plain": [
       "0    MultiPolygon\n",
       "dtype: object"
      ]
     },
     "execution_count": 22,
     "metadata": {},
     "output_type": "execute_result"
    }
   ],
   "source": [
    "ca_boundary.geom_type"
   ]
  },
  {
   "cell_type": "markdown",
   "id": "3934b9e3-9ee7-4c44-9592-338baa812888",
   "metadata": {},
   "source": [
    "## CRS and extend\n",
    "\n",
    "CRS = coordinate reference system and is one of the basic info pieces for geospatial data\n",
    "\n",
    "We can think of the CRS as instructions to locate each spatial feature of our data frame on the surface of the earth."
   ]
  },
  {
   "cell_type": "code",
   "execution_count": 24,
   "id": "a3dcd383-ee7d-486b-9c62-692bde9f69c3",
   "metadata": {
    "tags": []
   },
   "outputs": [
    {
     "data": {
      "text/plain": [
       "<Geographic 2D CRS: EPSG:4326>\n",
       "Name: WGS 84\n",
       "Axis Info [ellipsoidal]:\n",
       "- Lat[north]: Geodetic latitude (degree)\n",
       "- Lon[east]: Geodetic longitude (degree)\n",
       "Area of Use:\n",
       "- name: World.\n",
       "- bounds: (-180.0, -90.0, 180.0, 90.0)\n",
       "Datum: World Geodetic System 1984 ensemble\n",
       "- Ellipsoid: WGS 84\n",
       "- Prime Meridian: Greenwich"
      ]
     },
     "execution_count": 24,
     "metadata": {},
     "output_type": "execute_result"
    }
   ],
   "source": [
    "# access the CR of the GeoDataFRame\n",
    "pigs.crs"
   ]
  },
  {
   "cell_type": "markdown",
   "id": "689dc30c-ff72-441f-9486-6c7b953e3f83",
   "metadata": {},
   "source": [
    "4326 is one of the most common ones you'll encounter. It's what google earth and the DOD use. EPGS = european survey group"
   ]
  },
  {
   "cell_type": "code",
   "execution_count": 27,
   "id": "124357b9-b4ea-492a-8a54-0bc8f9272822",
   "metadata": {
    "tags": []
   },
   "outputs": [
    {
     "name": "stdout",
     "output_type": "stream",
     "text": [
      "ellipsoid:  WGS 84\n",
      "datum:  World Geodetic System 1984 ensemble\n",
      "is geographic?  True\n",
      "is projected?  False\n"
     ]
    }
   ],
   "source": [
    "# Get more information about the CRS\n",
    "print('ellipsoid: ', pigs.crs.ellipsoid)\n",
    "print('datum: ', pigs.crs.datum)\n",
    "print('is geographic? ', pigs.crs.is_geographic)\n",
    "print('is projected? ', pigs.crs.is_projected)"
   ]
  },
  {
   "cell_type": "markdown",
   "id": "3752ffe2-bbff-49e2-8b50-ce9dc727a7f1",
   "metadata": {},
   "source": [
    "- What are the ellipsoid and datum? What are they telling us about the CRS?\n",
    "- What does it mean that the CRS is geographic and not projected?\n",
    "\n",
    "The **extent** of the geodf is the bounding box covering *all* the spaital features in our geo-dataframe.\n",
    "This is formed by finding the points that are furthest "
   ]
  },
  {
   "cell_type": "markdown",
   "id": "6331e791-283c-4d23-89a5-b28faf0240d7",
   "metadata": {},
   "source": [
    "## Data wrangling\n",
    "\n",
    "Since `geopandas` is built on top of `pandas`, we may use everythign we have learned about data selection, wrangling, and modification for a `pandas.DataFrame` to wrange `geopandas.GeoDataFrames`.\n",
    "\n",
    "Example: \n",
    "\n",
    "We only want to use recent data for wild pig observations."
   ]
  },
  {
   "cell_type": "code",
   "execution_count": 28,
   "id": "fc3ca352-cce3-45b6-848d-c238f74bd9db",
   "metadata": {
    "tags": []
   },
   "outputs": [
    {
     "data": {
      "text/plain": [
       "1818.0     31\n",
       "1910.0      1\n",
       "1925.0      1\n",
       "1927.0      4\n",
       "1929.0      3\n",
       "         ... \n",
       "2019.0    101\n",
       "2020.0    159\n",
       "2021.0    164\n",
       "2022.0    185\n",
       "2023.0     98\n",
       "Name: year, Length: 61, dtype: int64"
      ]
     },
     "execution_count": 28,
     "metadata": {},
     "output_type": "execute_result"
    }
   ],
   "source": [
    "# Examiin pig observations by year\n",
    "pigs.year.value_counts().sort_index()"
   ]
  },
  {
   "cell_type": "code",
   "execution_count": 30,
   "id": "56d39ace-5dcf-4c2c-8ec2-18b98e777356",
   "metadata": {
    "tags": []
   },
   "outputs": [
    {
     "name": "stdout",
     "output_type": "stream",
     "text": [
      "Total number of observations  1046\n",
      "Number of observations since 2020:  606\n"
     ]
    }
   ],
   "source": [
    "# Select data from 2020 onwards\n",
    "pigs_recent = pigs[pigs.year >= 2020]\n",
    "\n",
    "# check the length of the original df\n",
    "print('Total number of observations ', len(pigs))\n",
    "\n",
    "# Check length of the new dataframe\n",
    "print('Number of observations since 2020: ', len(pigs_recent))"
   ]
  },
  {
   "cell_type": "markdown",
   "id": "840906f7-0053-4a35-a6f3-05d31f75faf9",
   "metadata": {},
   "source": [
    "## Create a map\n",
    "\n",
    "geo dfs also have a `plot()` method that we can call directtly to plot the data uqickly"
   ]
  },
  {
   "cell_type": "code",
   "execution_count": 32,
   "id": "8663aed0-150d-4f51-bae2-e71eb93e04d4",
   "metadata": {
    "tags": []
   },
   "outputs": [
    {
     "data": {
      "text/plain": [
       "<AxesSubplot:>"
      ]
     },
     "execution_count": 32,
     "metadata": {},
     "output_type": "execute_result"
    },
    {
     "data": {
      "image/png": "[encoded data removed]",
      "text/plain": [
       "<Figure size 640x480 with 1 Axes>"
      ]
     },
     "metadata": {},
     "output_type": "display_data"
    }
   ],
   "source": [
    "pigs_recent.plot()"
   ]
  },
  {
   "cell_type": "markdown",
   "id": "19a30f3e-72b1-4fb8-8aa0-60afbe6e719c",
   "metadata": {},
   "source": [
    "### `matplotlib`'s `fig` and `ax`\n",
    "\n",
    "Matplotlib graphs the data in a **figure** which can have one or more **axes**\n",
    "\n",
    "The *axes* are only the area specified by a pair of x,y axes and what is plotted in it.\n",
    "\n",
    "The *figure* may have mulitple axes.\n",
    "\n",
    "To create a blank figure:"
   ]
  },
  {
   "cell_type": "code",
   "execution_count": 34,
   "id": "018cc2fe-a549-4bb9-84f1-65e8c39540fd",
   "metadata": {
    "tags": []
   },
   "outputs": [
    {
     "data": {
      "image/png": "[encoded data removed]",
      "text/plain": [
       "<Figure size 640x480 with 1 Axes>"
      ]
     },
     "metadata": {},
     "output_type": "display_data"
    }
   ],
   "source": [
    "# initialize an empty figure (fig) and axes (ax)\n",
    "fig, ax = plt.subplots()\n",
    "\n",
    "# display the figure\n",
    "plt.show()"
   ]
  },
  {
   "cell_type": "markdown",
   "id": "0d7a2135-d576-4a43-bd90-fbbad16510be",
   "metadata": {},
   "source": [
    "### Add layers"
   ]
  },
  {
   "cell_type": "code",
   "execution_count": 38,
   "id": "f923ca26-aace-4695-9cec-9fb6de47ad39",
   "metadata": {
    "tags": []
   },
   "outputs": [
    {
     "data": {
      "image/png": "[encoded data removed]",
      "text/plain": [
       "<Figure size 640x480 with 1 Axes>"
      ]
     },
     "metadata": {},
     "output_type": "display_data"
    }
   ],
   "source": [
    "# initialize an empty figure (fig) and axes (ax)\n",
    "fig, ax = plt.subplots()\n",
    "\n",
    "# add CA boundary\n",
    "ca_boundary.plot(ax = ax,\n",
    "                color = 'none',\n",
    "                edgecolor = 'black')\n",
    "\n",
    "# add pigs point plot to our figure's axis\n",
    "pigs_recent.plot(ax = ax)\n",
    "\n",
    "# Customization\n",
    "ax.set_title('Report \"Sus scrofa\" Sightings in CA, 2020-2023')\n",
    "ax.set_xlabel('Longitude')\n",
    "ax.set_ylabel('Latitude')\n",
    "\n",
    "# display the figure\n",
    "plt.show()"
   ]
  }
 ],
 "metadata": {
  "kernelspec": {
   "display_name": "Anaconda 3 (Base)",
   "language": "python",
   "name": "base"
  },
  "language_info": {
   "codemirror_mode": {
    "name": "ipython",
    "version": 3
   },
   "file_extension": ".py",
   "mimetype": "text/x-python",
   "name": "python",
   "nbconvert_exporter": "python",
   "pygments_lexer": "ipython3",
   "version": "3.9.13"
  }
 },
 "nbformat": 4,
 "nbformat_minor": 5
}
