{
 "cells": [
  {
   "cell_type": "markdown",
   "id": "a4f0aebc-6ef0-47e9-b465-e1c672b5ebc5",
   "metadata": {},
   "source": [
    "# Python Review"
   ]
  },
  {
   "cell_type": "code",
   "execution_count": 2,
   "id": "1bdfbbe3-cd2f-4b47-b629-9efa7f3fa9ee",
   "metadata": {
    "tags": []
   },
   "outputs": [],
   "source": [
    "import numpy as np"
   ]
  },
  {
   "cell_type": "markdown",
   "id": "2d93f20f-6889-47c5-a053-1c7406f20f4a",
   "metadata": {},
   "source": [
    "## Variables\n",
    "\n",
    "We can think of a variable as a name we assign to a particular object in Python. For example:"
   ]
  },
  {
   "cell_type": "code",
   "execution_count": 16,
   "id": "be4eadea-5819-4778-a408-de93e20e70ad",
   "metadata": {
    "tags": []
   },
   "outputs": [],
   "source": [
    "# Assign a small array to variable a\n",
    "a = np.array([[1,1,2],[3,5,8]])"
   ]
  },
  {
   "cell_type": "markdown",
   "id": "2933bda7-88d2-476f-890f-0eae382171da",
   "metadata": {},
   "source": [
    "When we run the cell, we store the variables and their value. We can view a variable’s value in two ways from within our Jupyter notebook:\n",
    "\n",
    "1. running a cell with the variable name\n",
    "\n",
    "2. using the `print` function to print the value"
   ]
  },
  {
   "cell_type": "code",
   "execution_count": 4,
   "id": "e34b833b-fc4a-4971-a12b-79ff9d7ea131",
   "metadata": {
    "tags": []
   },
   "outputs": [
    {
     "data": {
      "text/plain": [
       "array([[1, 1, 2],\n",
       "       [3, 5, 8]])"
      ]
     },
     "execution_count": 4,
     "metadata": {},
     "output_type": "execute_result"
    }
   ],
   "source": [
    "# Show the value\n",
    "a"
   ]
  },
  {
   "cell_type": "code",
   "execution_count": 5,
   "id": "c1ba5503-fb4f-4573-a44d-e7c2449589a8",
   "metadata": {
    "tags": []
   },
   "outputs": [
    {
     "name": "stdout",
     "output_type": "stream",
     "text": [
      "[[1 1 2]\n",
      " [3 5 8]]\n"
     ]
    }
   ],
   "source": [
    "# Print the value \n",
    "print(a)"
   ]
  },
  {
   "cell_type": "markdown",
   "id": "b5416ccc-5069-478c-bdae-be8df7fd8c64",
   "metadata": {},
   "source": [
    "## Convention: Use `snake_case` for naming variables\n",
    "\n",
    "This is the convention we will use in the course. Why? `my_variable` or `MyVariable` or `myVariable`.\n",
    "PEP 8 - Style Guide for python code recommends snake_case.\n",
    "\n",
    "**remember that variable names should be both descriptive and concise**\n",
    "\n",
    "## Objects\n",
    "\n",
    "**object:** (informally speaking) is a bundle of *properties* and *actions* about something specific\n",
    "\n",
    "Example:\n",
    "\n",
    "object: data frame\n",
    "properties: number of rows, names of columns, and date created\n",
    "actions: selecting a specific row or adding a new column\n",
    "\n",
    "A variable is the name we give a spec obj and the same obj can be referenced by diff variables\n",
    "\n",
    "## Types\n",
    "\n",
    "Every object in Python has a **type**, the type tells us what kind of object we have.\n",
    "We can also call the type of an object, the **class** of the object"
   ]
  },
  {
   "cell_type": "code",
   "execution_count": 14,
   "id": "e853b05c-a8ad-4b9b-b768-c95fbdcaddb6",
   "metadata": {
    "tags": []
   },
   "outputs": [
    {
     "name": "stdout",
     "output_type": "stream",
     "text": [
      "[[1 1 2]\n",
      " [3 5 8]]\n"
     ]
    },
    {
     "data": {
      "text/plain": [
       "numpy.ndarray"
      ]
     },
     "execution_count": 14,
     "metadata": {},
     "output_type": "execute_result"
    }
   ],
   "source": [
    "print(a)\n",
    "type(a)"
   ]
  },
  {
   "cell_type": "markdown",
   "id": "e6ed5658-1880-49e9-a0dc-390a0c3d2080",
   "metadata": {},
   "source": [
    "the **numpy.ndarray** is the core object/data type of the numpy package"
   ]
  },
  {
   "cell_type": "code",
   "execution_count": 15,
   "id": "53ac6c10-df77-41a2-8f8b-1d282c9abfe4",
   "metadata": {
    "tags": []
   },
   "outputs": [
    {
     "name": "stdout",
     "output_type": "stream",
     "text": [
      "1\n"
     ]
    },
    {
     "data": {
      "text/plain": [
       "numpy.int64"
      ]
     },
     "execution_count": 15,
     "metadata": {},
     "output_type": "execute_result"
    }
   ],
   "source": [
    "print(a[0,0])\n",
    "type(a[0,0])"
   ]
  },
  {
   "cell_type": "markdown",
   "id": "0c2d59fb-b292-476f-bd58-320bf48ea318",
   "metadata": {},
   "source": [
    "`numpy.int64` is not the standard integer tyoe `int`\n",
    "\n",
    "`numpy.int64` is a special data type in Numpy telling us that 1 is an integer stored as a 64-bit number\n",
    "\n",
    "Check-in: access the value 5 in array `a`"
   ]
  },
  {
   "cell_type": "code",
   "execution_count": 17,
   "id": "5ae7ff6a-abde-43c0-aeaa-96025eec0cec",
   "metadata": {
    "tags": []
   },
   "outputs": [
    {
     "data": {
      "text/plain": [
       "5"
      ]
     },
     "execution_count": 17,
     "metadata": {},
     "output_type": "execute_result"
    }
   ],
   "source": [
    "a[1,1]"
   ]
  },
  {
   "cell_type": "markdown",
   "id": "4aadd119-8b89-4c33-9e25-f480216034ee",
   "metadata": {},
   "source": [
    "## Functions \n",
    "\n",
    "`print` was our first example of a Python **function**\n",
    "\n",
    "Functions take in a set of **arguments**, sep by commas, and use those arguments to create an **output**.\n",
    "\n",
    "In the course, we'll be using argument and parameter interchangeably. but they do have slightly diff meanings.\n",
    "\n",
    "We can ask for info about what a function does by executing `?` followed by function name."
   ]
  },
  {
   "cell_type": "code",
   "execution_count": 20,
   "id": "0f1f679c-40ee-449a-8955-16ef13a457ef",
   "metadata": {
    "tags": []
   },
   "outputs": [
    {
     "data": {
      "text/plain": [
       "\u001b[0;31mDocstring:\u001b[0m\n",
       "print(value, ..., sep=' ', end='\\n', file=sys.stdout, flush=False)\n",
       "\n",
       "Prints the values to a stream, or to sys.stdout by default.\n",
       "Optional keyword arguments:\n",
       "file:  a file-like object (stream); defaults to the current sys.stdout.\n",
       "sep:   string inserted between values, default a space.\n",
       "end:   string appended after the last value, default a newline.\n",
       "flush: whether to forcibly flush the stream.\n",
       "\u001b[0;31mType:\u001b[0m      builtin_function_or_method\n"
      ]
     },
     "metadata": {},
     "output_type": "display_data"
    }
   ],
   "source": [
    "?print"
   ]
  },
  {
   "cell_type": "markdown",
   "id": "5a4d13e5-e759-4e0b-8792-0d4fefe05f8a",
   "metadata": {},
   "source": [
    "What we obtain is a **docstring**, a special type of commment that is used to document how a function (or a class, or module) works.\n",
    "\n",
    "Notice that there are diffferent types of arguments inside the function's parentheses.\n",
    "\n",
    "roughly speaking, a function has 2 types of arguments:\n",
    "\n",
    "- **non-optional arguments**: arguments  *you* have to specify for the function to work\n",
    "\n",
    "- **optional arguments**: arguments that are pre-filled with a default value by the function, but you can override them. Optional arguments appear inside the parenthesis () in the form `optional_argument = default_value.`\n",
    "\n",
    "Example\n",
    "\n",
    "`end` is a parameter in `print` with default value a new new line\n",
    "We can pass the value `:)` to this parameter so that it finished the line with `:)` instead"
   ]
  },
  {
   "cell_type": "code",
   "execution_count": 22,
   "id": "6f23d6f6-0acb-406f-b13c-2ae34119cafa",
   "metadata": {
    "tags": []
   },
   "outputs": [
    {
     "name": "stdout",
     "output_type": "stream",
     "text": [
      "change the end parameter:)"
     ]
    }
   ],
   "source": [
    "print('change the end parameter', end = ':)')"
   ]
  },
  {
   "cell_type": "markdown",
   "id": "793c9b38-3598-412e-ba0f-954c9ff94ad6",
   "metadata": {},
   "source": [
    "## Attributes and methods\n",
    "\n",
    "An object in python has attributes and methods\n",
    "\n",
    "- **attributes**: a property of the object, some piece of information about it\n",
    "- **method**: a procedure associated\n",
    "\n",
    "Example: \n",
    "\n",
    "Numpy arrays have many methods and attributes. For example:"
   ]
  },
  {
   "cell_type": "code",
   "execution_count": 24,
   "id": "357e1b14-3458-40f3-8a73-0426c658c43d",
   "metadata": {
    "tags": []
   },
   "outputs": [
    {
     "data": {
      "text/plain": [
       "array([[1, 1, 2],\n",
       "       [3, 5, 8]])"
      ]
     },
     "execution_count": 24,
     "metadata": {},
     "output_type": "execute_result"
    }
   ],
   "source": [
    "a"
   ]
  },
  {
   "cell_type": "code",
   "execution_count": 26,
   "id": "06ad4da7-b6eb-4a4d-b568-94cbdd944c18",
   "metadata": {
    "tags": []
   },
   "outputs": [
    {
     "name": "stdout",
     "output_type": "stream",
     "text": [
      "[[1 3]\n",
      " [1 5]\n",
      " [2 8]]\n"
     ]
    }
   ],
   "source": [
    "# T is an example of an attribute, it returns the transpose of array\n",
    "print(a.T)"
   ]
  },
  {
   "cell_type": "code",
   "execution_count": 28,
   "id": "ebb63900-01af-487f-8c74-44e7919b5bd9",
   "metadata": {
    "tags": []
   },
   "outputs": [
    {
     "data": {
      "text/plain": [
       "numpy.ndarray"
      ]
     },
     "execution_count": 28,
     "metadata": {},
     "output_type": "execute_result"
    }
   ],
   "source": [
    "type(a.T)"
   ]
  },
  {
   "cell_type": "code",
   "execution_count": 30,
   "id": "701f77dd-3c5f-4fc8-9cd5-309e063ee350",
   "metadata": {
    "tags": []
   },
   "outputs": [
    {
     "name": "stdout",
     "output_type": "stream",
     "text": [
      "(2, 3)\n",
      "<class 'tuple'>\n"
     ]
    }
   ],
   "source": [
    "# shape - another attribute tells us the shape of the array\n",
    "print(a.shape)\n",
    "print(type(a.shape))"
   ]
  },
  {
   "cell_type": "code",
   "execution_count": 35,
   "id": "7222cd35-199b-4480-8520-1b0ea7fd7c8f",
   "metadata": {
    "tags": []
   },
   "outputs": [
    {
     "name": "stdout",
     "output_type": "stream",
     "text": [
      "dim: 2 | type: <class 'int'>\n"
     ]
    }
   ],
   "source": [
    "# ndim is an attribute holding the number of array dimensions\n",
    "print('dim:', a.ndim, '| type:', type(a.ndim))"
   ]
  },
  {
   "cell_type": "markdown",
   "id": "d96e2c39-99d0-4eef-8464-f9f6b3bcca4b",
   "metadata": {},
   "source": [
    "Attributes can have many different data types. \n",
    "\n",
    "Some examples of methods."
   ]
  },
  {
   "cell_type": "code",
   "execution_count": 37,
   "id": "a9c84206-99f1-49e5-b4d5-7df4e1788bef",
   "metadata": {
    "tags": []
   },
   "outputs": [
    {
     "name": "stdout",
     "output_type": "stream",
     "text": [
      "[[1 1 2]\n",
      " [3 5 8]]\n"
     ]
    },
    {
     "data": {
      "text/plain": [
       "array([1, 1, 2])"
      ]
     },
     "execution_count": 37,
     "metadata": {},
     "output_type": "execute_result"
    }
   ],
   "source": [
    "# the min method returns the minimum value in the array along a specified axis\n",
    "print(a)\n",
    "a.min(axis=0)"
   ]
  },
  {
   "cell_type": "markdown",
   "id": "8c5dae5b-6987-480f-8467-5963b37a99f4",
   "metadata": {},
   "source": [
    "Remeber, methods are **functions** associated with an object. We can confirm this!"
   ]
  },
  {
   "cell_type": "code",
   "execution_count": 39,
   "id": "37ef2f71-6460-46f5-8a34-d1635071ec3a",
   "metadata": {
    "tags": []
   },
   "outputs": [
    {
     "data": {
      "text/plain": [
       "[[1, 1, 2], [3, 5, 8]]"
      ]
     },
     "execution_count": 39,
     "metadata": {},
     "output_type": "execute_result"
    }
   ],
   "source": [
    "# method tolist() transforms array into list\n",
    "a.tolist()"
   ]
  },
  {
   "cell_type": "code",
   "execution_count": 41,
   "id": "3e370014-b99a-4145-b300-1a4fe6958490",
   "metadata": {
    "tags": []
   },
   "outputs": [
    {
     "data": {
      "text/plain": [
       "list"
      ]
     },
     "execution_count": 41,
     "metadata": {},
     "output_type": "execute_result"
    }
   ],
   "source": [
    "type(a.tolist())"
   ]
  },
  {
   "cell_type": "code",
   "execution_count": 43,
   "id": "a80df99b-1780-411d-a960-e526d92f1f71",
   "metadata": {
    "tags": []
   },
   "outputs": [
    {
     "data": {
      "text/plain": [
       "\u001b[0;31mDocstring:\u001b[0m\n",
       "print(value, ..., sep=' ', end='\\n', file=sys.stdout, flush=False)\n",
       "\n",
       "Prints the values to a stream, or to sys.stdout by default.\n",
       "Optional keyword arguments:\n",
       "file:  a file-like object (stream); defaults to the current sys.stdout.\n",
       "sep:   string inserted between values, default a space.\n",
       "end:   string appended after the last value, default a newline.\n",
       "flush: whether to forcibly flush the stream.\n",
       "\u001b[0;31mType:\u001b[0m      builtin_function_or_method\n"
      ]
     },
     "metadata": {},
     "output_type": "display_data"
    }
   ],
   "source": [
    "?print"
   ]
  },
  {
   "cell_type": "markdown",
   "id": "3899ee7e-b117-4acf-b5f9-7192120ac593",
   "metadata": {},
   "source": [
    "## Exercise\n",
    "\n",
    "1. read the `print` function help. what is the type of argument `sep`? is this an optional/default or non-optional/non-default argument? why?\n",
    "\n",
    "2. Create two new variables, one with the integer value 77 and one with string 99\n",
    "\n",
    "3. print 77%99%77"
   ]
  },
  {
   "cell_type": "markdown",
   "id": "27615b34-090e-4322-839a-af193369c7a5",
   "metadata": {},
   "source": [
    "`sep` is a default argument because it appears inside the ()"
   ]
  },
  {
   "cell_type": "code",
   "execution_count": 45,
   "id": "6fc405a6-0c28-4f25-a818-849c1c428d34",
   "metadata": {
    "tags": []
   },
   "outputs": [],
   "source": [
    "b = 77\n",
    "c = '99'"
   ]
  },
  {
   "cell_type": "code",
   "execution_count": 46,
   "id": "b3a7aa14-d7e9-4733-96fe-a83e864cf9d6",
   "metadata": {
    "tags": []
   },
   "outputs": [
    {
     "data": {
      "text/plain": [
       "int"
      ]
     },
     "execution_count": 46,
     "metadata": {},
     "output_type": "execute_result"
    }
   ],
   "source": [
    "type(b)"
   ]
  },
  {
   "cell_type": "code",
   "execution_count": 48,
   "id": "c3df7af3-b059-40c9-8ab7-22ac0fbb4a27",
   "metadata": {
    "tags": []
   },
   "outputs": [
    {
     "data": {
      "text/plain": [
       "str"
      ]
     },
     "execution_count": 48,
     "metadata": {},
     "output_type": "execute_result"
    }
   ],
   "source": [
    "type(c)"
   ]
  },
  {
   "cell_type": "code",
   "execution_count": 49,
   "id": "63b866d4-929e-48d0-ad22-25df74bec6bd",
   "metadata": {
    "tags": []
   },
   "outputs": [
    {
     "name": "stdout",
     "output_type": "stream",
     "text": [
      "77%99%77\n"
     ]
    }
   ],
   "source": [
    "print(b,c,b, sep = '%')"
   ]
  }
 ],
 "metadata": {
  "kernelspec": {
   "display_name": "Anaconda 3 (Base)",
   "language": "python",
   "name": "base"
  },
  "language_info": {
   "codemirror_mode": {
    "name": "ipython",
    "version": 3
   },
   "file_extension": ".py",
   "mimetype": "text/x-python",
   "name": "python",
   "nbconvert_exporter": "python",
   "pygments_lexer": "ipython3",
   "version": "3.9.13"
  }
 },
 "nbformat": 4,
 "nbformat_minor": 5
}
